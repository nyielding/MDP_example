{
 "cells": [
  {
   "cell_type": "code",
   "execution_count": 69,
   "metadata": {},
   "outputs": [],
   "source": [
    "import gymnasium"
   ]
  },
  {
   "cell_type": "code",
   "execution_count": 108,
   "metadata": {},
   "outputs": [],
   "source": [
    "# # If Pygame is installed, you can run this example to render\n",
    "env = gymnasium.make('FrozenLake-v1', render_mode='human')\n",
    "\n",
    "# # If Pygame is not installed, you can run this example to render\n",
    "# env = gymnasium.make('FrozenLake-v1', render_mode='ansi') # S = start, F = Frozen, H = Hole, G = Goal\n",
    "\n",
    "LEFT = 0\n",
    "DOWN = 1\n",
    "RIGHT = 2\n",
    "UP = 3\n",
    "DIRECTIONS = ['LEFT', 'DOWN', 'RIGHT', 'UP']"
   ]
  },
  {
   "cell_type": "code",
   "execution_count": 109,
   "metadata": {},
   "outputs": [
    {
     "name": "stdout",
     "output_type": "stream",
     "text": [
      "Action Space:  Discrete(4)\n",
      "Sampled action:  0\n",
      "Observation Space:  Discrete(16)\n",
      "Sampled observation:  1\n"
     ]
    }
   ],
   "source": [
    "print('Action Space: ', env.action_space)\n",
    "print('Sampled action: ', env.action_space.sample())\n",
    "print('Observation Space: ', env.observation_space)\n",
    "print('Sampled observation: ', env.observation_space.sample())"
   ]
  },
  {
   "cell_type": "code",
   "execution_count": 110,
   "metadata": {},
   "outputs": [
    {
     "name": "stdout",
     "output_type": "stream",
     "text": [
      "None\n",
      "Ob:  0\n"
     ]
    }
   ],
   "source": [
    "# # Reset the environment\n",
    "ob, _ = env.reset()\n",
    "img = env.render()\n",
    "print(img)\n",
    "print('Ob: ', ob)\n"
   ]
  },
  {
   "cell_type": "code",
   "execution_count": 97,
   "metadata": {},
   "outputs": [
    {
     "name": "stdout",
     "output_type": "stream",
     "text": [
      "None\n",
      "Ob:  9\n"
     ]
    }
   ],
   "source": [
    "# # Move left \n",
    "ob, _, _, _, _ = env.step(LEFT)\n",
    "img = env.render()\n",
    "print(img)\n",
    "print('Ob: ', ob)"
   ]
  },
  {
   "cell_type": "code",
   "execution_count": 102,
   "metadata": {},
   "outputs": [
    {
     "name": "stdout",
     "output_type": "stream",
     "text": [
      "None\n",
      "Ob:  13\n"
     ]
    }
   ],
   "source": [
    "# # Move down \n",
    "ob, _, _, _, _ = env.step(DOWN)\n",
    "img = env.render()\n",
    "print(img)\n",
    "print('Ob: ', ob)"
   ]
  },
  {
   "cell_type": "code",
   "execution_count": 105,
   "metadata": {},
   "outputs": [
    {
     "name": "stdout",
     "output_type": "stream",
     "text": [
      "None\n",
      "Ob:  15\n"
     ]
    }
   ],
   "source": [
    "# # Move right \n",
    "ob, _, _, _, _ = env.step(RIGHT)\n",
    "img = env.render()\n",
    "print(img)\n",
    "print('Ob: ', ob)"
   ]
  },
  {
   "cell_type": "code",
   "execution_count": 90,
   "metadata": {},
   "outputs": [
    {
     "name": "stdout",
     "output_type": "stream",
     "text": [
      "None\n",
      "Ob:  9\n"
     ]
    }
   ],
   "source": [
    "# # Move up \n",
    "ob, _, _, _, _ = env.step(UP)\n",
    "img = env.render()\n",
    "print(img)\n",
    "print('Ob: ', ob)"
   ]
  },
  {
   "cell_type": "code",
   "execution_count": 123,
   "metadata": {},
   "outputs": [
    {
     "name": "stdout",
     "output_type": "stream",
     "text": [
      "Board states: \n",
      "0,  1,  2,  3\n",
      "4,  5,  6,  7\n",
      "8,  9,  10, 11\n",
      "12, 13, 14, 15\n",
      "\n"
     ]
    }
   ],
   "source": [
    "print('Board states: ')\n",
    "print('0,  1,  2,  3\\n4,  5,  6,  7\\n8,  9,  10, 11\\n12, 13, 14, 15\\n')"
   ]
  },
  {
   "cell_type": "code",
   "execution_count": 125,
   "metadata": {},
   "outputs": [
    {
     "name": "stdout",
     "output_type": "stream",
     "text": [
      "Utility info as Action 0-L, 1-D, 2-R, 3-U: \n",
      "Utility of  LEFT  : \n",
      "(Transition probability, Next state, Reward, Done) : \n",
      "(0.3333333333333333, 0, 0.0, False)\n",
      "(0.3333333333333333, 0, 0.0, False)\n",
      "(0.3333333333333333, 4, 0.0, False)\n",
      "\n",
      "Utility of  DOWN  : \n",
      "(Transition probability, Next state, Reward, Done) : \n",
      "(0.3333333333333333, 0, 0.0, False)\n",
      "(0.3333333333333333, 4, 0.0, False)\n",
      "(0.3333333333333333, 1, 0.0, False)\n",
      "\n",
      "Utility of  RIGHT  : \n",
      "(Transition probability, Next state, Reward, Done) : \n",
      "(0.3333333333333333, 4, 0.0, False)\n",
      "(0.3333333333333333, 1, 0.0, False)\n",
      "(0.3333333333333333, 0, 0.0, False)\n",
      "\n",
      "Utility of  UP  : \n",
      "(Transition probability, Next state, Reward, Done) : \n",
      "(0.3333333333333333, 1, 0.0, False)\n",
      "(0.3333333333333333, 0, 0.0, False)\n",
      "(0.3333333333333333, 0, 0.0, False)\n",
      "\n"
     ]
    }
   ],
   "source": [
    "# # Print utility info\n",
    "print('Utility info as Action 0-L, 1-D, 2-R, 3-U: ')\n",
    "utility = env.unwrapped.P[ob]\n",
    "for i, move in enumerate(DIRECTIONS):\n",
    "    print('Utility of ', move, ' : ')\n",
    "    print('(Transition probability, Next state, Reward, Done) : ')\n",
    "    for new_state in utility[i]:\n",
    "        print(new_state)\n",
    "    print()"
   ]
  },
  {
   "cell_type": "code",
   "execution_count": 126,
   "metadata": {},
   "outputs": [],
   "source": [
    "# # Close env and pygame window\n",
    "env.close()"
   ]
  }
 ],
 "metadata": {
  "kernelspec": {
   "display_name": ".venv",
   "language": "python",
   "name": "python3"
  },
  "language_info": {
   "codemirror_mode": {
    "name": "ipython",
    "version": 3
   },
   "file_extension": ".py",
   "mimetype": "text/x-python",
   "name": "python",
   "nbconvert_exporter": "python",
   "pygments_lexer": "ipython3",
   "version": "3.10.4"
  }
 },
 "nbformat": 4,
 "nbformat_minor": 2
}
